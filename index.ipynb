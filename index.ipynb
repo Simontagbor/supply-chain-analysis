{
 "cells": [
  {
   "cell_type": "markdown",
   "metadata": {},
   "source": [
    ":::{.column-body-outset}\n",
    "<h1 style=\"color: #00205b; font-family: 'Georgia';\">Forecasting Demand: Unveiling the Future of Product Sales and Crafting the Optimal Inventory Strategy</h1>\n",
    "<author style=\"color: #00205b; font-family: 'Georgia';\">By: <a href=\"https://www./\">Simon Tagbor</a></author>\n",
    "<date style=\"color: #00205b; font-family: 'Georgia';\">2024-01-21</date>\n",
    ":::\n"
   ]
  },
  {
   "cell_type": "markdown",
   "metadata": {},
   "source": [
    "<blockquote class=\"blockquote\">\n",
    "<p>\n",
    "One of the core focus of downstream supply chain operations involves a key responsibility – the ability to navigate the ever-changing landscape of customer demand. Supply chain professionals have adopted statiscal techqniques that ebable them to infer the demand of products based on historical data. This process is relatively straightforward when dealing with smaller product categories and stable demand patterns. However, challenges arise in larger product categories with constantly shifting consumer demands, posing scalability issues for traditional forecasting methods.\n",
    "</p>\n",
    "<p>\n",
    "The traditional approach involves observing the distribution and variability of historical data from ERP systems, combined with expert intuition. Yet, as businesses grow, reducing guesswork in demand forecasting becomes important. The decisions made in inventory optimization can significantly impact costs.\n",
    "</p>\n",
    "<p>\n",
    "In this notebook, I will guide you through building a demand forecasting model to predict product demand based on historical data. Moreover, I’ll demonstrate how this model can be leveraged for inventory optimization, covering concepts like reorder points, safety stock, and economic order quantity (EOQ).\n",
    "</p>\n",
    "<p>\n",
    "Throughout this project, we will address two key business questions:\n",
    "</p>\n",
    "<ol>\n",
    "<li>\n",
    "<em>What is the demand forecast for the top selling product in the next 24 months?</em>\n",
    "</li>\n",
    "<li>\n",
    "<em>What is the optimal inventory level for the product?</em>\n",
    "</li>\n",
    "</ol>\n",
    "<p>\n",
    "Join me on this exploration as we seek answers, and feel free to share your thoughts and feedback on my approach.\n",
    "</p>\n",
    "<p>You can find the source code for this project at my <a href=\"https://github.com/Simontagbor/supply-chain-demand-forecast\">github page.</a> You can also find the Jupyter notebook and the dataset on my <a href=\"https://www.kaggle.com/simontagbor/british-airways-predictive-ml\">kaggle page</a>.</p>\n",
    "</blockquote>"
   ]
  },
  {
   "cell_type": "markdown",
   "metadata": {},
   "source": [
    "<details>\n",
    "<summary style=\"font-weight:bold;\">\n",
    "Click to Read Executive Summary on Research Findings\n",
    "</summary>\n",
    "<div style=\"\n",
    "    font-size: 1.8vw; \n",
    "    color: #333; \n",
    "    padding: 1.5vw; \n",
    "    margin: 1.7vw 0; \n",
    "    border-left: 0.35vw solid #7792f9; \n",
    "    line-height: 1.6; \n",
    "    position: relative; \n",
    "    background: #e9f5ff;\">\n",
    "<h2 class=\"anchored\">\n",
    "Executive Summary\n",
    "</h2>\n",
    "<p>\n",
    "After building and testing the demand forecasting model, we discovered trends, seasonalities and holiday effects on the top-selling product based on the dataset provided we also found the optimal inventory policy for the top-selling product:\n",
    "</p>\n",
    "<ul>\n",
    "<li>\n",
    "Given the zero variance observed in the product price, The Demand for the <code>product Card ID 365</code> is expected to remain fairly stable within the next two years with cyclical dips in sales within the third quarter of each year(2015 and 2016). it might be worth looking into these top predictors of demand outcomes to control the dips and ultimately improve sales outcomes\n",
    "</li>\n",
    "</ul>\n",
    "<div style=\"display: grid; grid-template-columns: auto auto; padding: 10px; background-color: white; width:85%; margin-left: 9%;\">\n",
    "<div style=\"font-size: 1.5vw; text-align: left;\">\n",
    "<ol type=\"1\">\n",
    "<li>Pending\n",
    "</li></ol></div>\n",
    "<div style=\"font-size: 1.5vw; text-align: left;\">\n",
    "<ol start=\"2\" type=\"1\">\n",
    "<li>Pending\n",
    "</li></ol></div>\n",
    "<div style=\"font-size: 1.5vw; text-align: left;\">\n",
    "<ol start=\"3\" type=\"1\">\n",
    "<li>Pending\n",
    "</li></ol></div>\n",
    "<div style=\"font-size: 1.5vw; text-align: left;\">\n",
    "<ol start=\"4\" type=\"1\">\n",
    "<li>Pending\n",
    "</li></ol></div>\n",
    "<div style=\"font-size: 1.5vw; text-align: left;\">\n",
    "<ol start=\"5\" type=\"1\">\n",
    "<li>Pending\n",
    "</li></ol></div>\n",
    "<div style=\"font-size: 1.5vw; text-align: left;\">\n",
    "<ol start=\"6\" type=\"1\">\n",
    "<li>Pending\n",
    "</li></ol></div>\n",
    "<div style=\"font-size: 1.5vw; text-align: left;\">\n",
    "<ol start=\"7\" type=\"1\">\n",
    "<li>Pending\n",
    "</li></ol></div>\n",
    "<div style=\"font-size: 1.5vw; text-align: left;\">\n",
    "<ol start=\"8\" type=\"1\">\n",
    "<li>Pending\n",
    "</li></ol></div>\n",
    "<div style=\"font-size: 1.5vw; text-align: left;\">\n",
    "<ol start=\"9\" type=\"1\">\n",
    "<li>Pending\n",
    "</li></ol></div>\n",
    "<div style=\"font-size: 1.5vw; text-align: left;\">\n",
    "<ol start=\"10\" type=\"1\">\n",
    "<li>Pending\n",
    "</li></ol></div>\n",
    "</div>\n",
    "<ul>\n",
    "<li>\n",
    "Based on the Economic Order Quantity Model(EOQ) the optimal inventory policy is\n",
    "</li>\n",
    "<p>\n",
    "</p>\n",
    "</ul>\n",
    "<h2 class=\"anchored\">\n",
    "Potential Application of Insights\n",
    "</h2>\n",
    "<p>\n",
    "</p>\n",
    "<p>\n",
    "</p>\n",
    "</div>\n",
    "</details>"
   ]
  },
  {
   "cell_type": "markdown",
   "metadata": {},
   "source": [
    "<h2>Project Outline</h2>\n",
    "<p>For this project, I completed the following tasks:</p>\n",
    "\n",
    "- [x] Performed Exploratory Data Analysis.\n",
    "- [x] Cleaned and Prepared the data for modeling.\n",
    "- [x] Conducted Time Series Modeling With Prophet.\n",
    "- [x] Evaluated the model performance.\n",
    "- [x] Interpret the model results and answer the business questions.\n"
   ]
  },
  {
   "cell_type": "markdown",
   "metadata": {},
   "source": [
    "<h2>Problem Statement</h2>\n",
    "<em>Large product categories and constantly shifting consumer demand patterns introduce a scaling challenge for traditional demand forecasting techniques. There is a need for an approach that reduces the level of guesswork and reduces the avoidable costly outcomes of poor inventory optimizations.</em>"
   ]
  },
  {
   "cell_type": "markdown",
   "metadata": {},
   "source": [
    "<h2>Project Dependencies</h2>\n"
   ]
  },
  {
   "cell_type": "code",
   "execution_count": 1,
   "metadata": {},
   "outputs": [],
   "source": [
    "#| code fold true\n",
    "# import project libraries\n",
    "import pandas as pd\n",
    "import numpy as np # for linear algebra\n",
    "import math # for math operations \n",
    "\n",
    "import seaborn as sns # for plotting\n",
    "\n",
    "# handling files\n",
    "import os \n",
    "import sys \n",
    "\n",
    "# data preprocessing\n",
    "from sklearn.preprocessing import LabelEncoder\n",
    "from sklearn.model_selection import train_test_split\n",
    "\n",
    "\n",
    "# Model Building and Fitting\n",
    "from sklearn.ensemble import RandomForestClassifier\n",
    "from prophet import Prophet\n",
    "\n",
    "\n",
    "\n",
    "# Model Evaluation and Tuning\n",
    "from sklearn.metrics import accuracy_score, classification_report, confusion_matrix\n",
    "\n",
    "# visualisation libraries\n",
    "import seaborn as sns\n",
    "import matplotlib.pyplot as plt\n",
    "import matplotlib.pyplot as plt # for plotting\n",
    "import squarify # for tree maps"
   ]
  },
  {
   "cell_type": "markdown",
   "metadata": {},
   "source": [
    "<h1>Eploratory Data Analysis</h1>\n",
    "<p>\n",
    "The working <a href=\"#\">dataset</a> contains entries of customer demand information The data contains 53 features (columns)\n",
    "</p>\n",
    "<p>\n",
    "To understand the data, I performed exploratory data analysis. I used the following techniques to understand the data:\n",
    "</p>\n",
    "<ul class=\"task-list\">\n",
    "<li><input type=\"checkbox\" checked=\"\">Visual inspection of data.</li>\n",
    "<li><input type=\"checkbox\" checked=\"\">Exploratory Data Visualizations. (Univariate and Bivariate)</li>\n",
    "</ul>"
   ]
  },
  {
   "cell_type": "markdown",
   "metadata": {},
   "source": [
    "<h2>Visual Inspection of Data</h2>"
   ]
  },
  {
   "cell_type": "code",
   "execution_count": 2,
   "metadata": {},
   "outputs": [
    {
     "data": {
      "text/html": [
       "<div>\n",
       "<style scoped>\n",
       "    .dataframe tbody tr th:only-of-type {\n",
       "        vertical-align: middle;\n",
       "    }\n",
       "\n",
       "    .dataframe tbody tr th {\n",
       "        vertical-align: top;\n",
       "    }\n",
       "\n",
       "    .dataframe thead th {\n",
       "        text-align: right;\n",
       "    }\n",
       "</style>\n",
       "<table border=\"1\" class=\"dataframe\">\n",
       "  <thead>\n",
       "    <tr style=\"text-align: right;\">\n",
       "      <th></th>\n",
       "      <th>Type</th>\n",
       "      <th>Days for shipping (real)</th>\n",
       "      <th>Days for shipment (scheduled)</th>\n",
       "      <th>Benefit per order</th>\n",
       "      <th>Sales per customer</th>\n",
       "      <th>Delivery Status</th>\n",
       "      <th>Late_delivery_risk</th>\n",
       "      <th>Category Id</th>\n",
       "      <th>Category Name</th>\n",
       "      <th>Customer City</th>\n",
       "      <th>...</th>\n",
       "      <th>Order Zipcode</th>\n",
       "      <th>Product Card Id</th>\n",
       "      <th>Product Category Id</th>\n",
       "      <th>Product Description</th>\n",
       "      <th>Product Image</th>\n",
       "      <th>Product Name</th>\n",
       "      <th>Product Price</th>\n",
       "      <th>Product Status</th>\n",
       "      <th>shipping date (DateOrders)</th>\n",
       "      <th>Shipping Mode</th>\n",
       "    </tr>\n",
       "  </thead>\n",
       "  <tbody>\n",
       "    <tr>\n",
       "      <th>0</th>\n",
       "      <td>DEBIT</td>\n",
       "      <td>3</td>\n",
       "      <td>4</td>\n",
       "      <td>91.250000</td>\n",
       "      <td>314.640015</td>\n",
       "      <td>Advance shipping</td>\n",
       "      <td>0</td>\n",
       "      <td>73</td>\n",
       "      <td>Sporting Goods</td>\n",
       "      <td>Caguas</td>\n",
       "      <td>...</td>\n",
       "      <td>NaN</td>\n",
       "      <td>1360</td>\n",
       "      <td>73</td>\n",
       "      <td>NaN</td>\n",
       "      <td>http://images.acmesports.sports/Smart+watch</td>\n",
       "      <td>Smart watch</td>\n",
       "      <td>327.75</td>\n",
       "      <td>0</td>\n",
       "      <td>2/3/2018 22:56</td>\n",
       "      <td>Standard Class</td>\n",
       "    </tr>\n",
       "    <tr>\n",
       "      <th>1</th>\n",
       "      <td>TRANSFER</td>\n",
       "      <td>5</td>\n",
       "      <td>4</td>\n",
       "      <td>-249.089996</td>\n",
       "      <td>311.359985</td>\n",
       "      <td>Late delivery</td>\n",
       "      <td>1</td>\n",
       "      <td>73</td>\n",
       "      <td>Sporting Goods</td>\n",
       "      <td>Caguas</td>\n",
       "      <td>...</td>\n",
       "      <td>NaN</td>\n",
       "      <td>1360</td>\n",
       "      <td>73</td>\n",
       "      <td>NaN</td>\n",
       "      <td>http://images.acmesports.sports/Smart+watch</td>\n",
       "      <td>Smart watch</td>\n",
       "      <td>327.75</td>\n",
       "      <td>0</td>\n",
       "      <td>1/18/2018 12:27</td>\n",
       "      <td>Standard Class</td>\n",
       "    </tr>\n",
       "  </tbody>\n",
       "</table>\n",
       "<p>2 rows × 53 columns</p>\n",
       "</div>"
      ],
      "text/plain": [
       "       Type  Days for shipping (real)  Days for shipment (scheduled)  \\\n",
       "0     DEBIT                         3                              4   \n",
       "1  TRANSFER                         5                              4   \n",
       "\n",
       "   Benefit per order  Sales per customer   Delivery Status  \\\n",
       "0          91.250000          314.640015  Advance shipping   \n",
       "1        -249.089996          311.359985     Late delivery   \n",
       "\n",
       "   Late_delivery_risk  Category Id   Category Name Customer City  ...  \\\n",
       "0                   0           73  Sporting Goods        Caguas  ...   \n",
       "1                   1           73  Sporting Goods        Caguas  ...   \n",
       "\n",
       "  Order Zipcode Product Card Id Product Category Id  Product Description  \\\n",
       "0           NaN            1360                  73                  NaN   \n",
       "1           NaN            1360                  73                  NaN   \n",
       "\n",
       "                                  Product Image  Product Name Product Price  \\\n",
       "0  http://images.acmesports.sports/Smart+watch   Smart watch         327.75   \n",
       "1  http://images.acmesports.sports/Smart+watch   Smart watch         327.75   \n",
       "\n",
       "  Product Status shipping date (DateOrders)   Shipping Mode  \n",
       "0              0             2/3/2018 22:56  Standard Class  \n",
       "1              0            1/18/2018 12:27  Standard Class  \n",
       "\n",
       "[2 rows x 53 columns]"
      ]
     },
     "execution_count": 2,
     "metadata": {},
     "output_type": "execute_result"
    }
   ],
   "source": [
    "df = pd.read_csv(\"data/DataCoSupplyChainDataset.csv\", encoding=\"ISO-8859-1\")\n",
    "df.head(2)"
   ]
  },
  {
   "cell_type": "markdown",
   "metadata": {},
   "source": [
    "<p>To explore the spread of the data, we will use the describe() method to get the summary statistics of the data.</p>"
   ]
  },
  {
   "cell_type": "code",
   "execution_count": 14,
   "metadata": {},
   "outputs": [
    {
     "data": {
      "text/html": [
       "<div>\n",
       "<style scoped>\n",
       "    .dataframe tbody tr th:only-of-type {\n",
       "        vertical-align: middle;\n",
       "    }\n",
       "\n",
       "    .dataframe tbody tr th {\n",
       "        vertical-align: top;\n",
       "    }\n",
       "\n",
       "    .dataframe thead th {\n",
       "        text-align: right;\n",
       "    }\n",
       "</style>\n",
       "<table border=\"1\" class=\"dataframe\">\n",
       "  <thead>\n",
       "    <tr style=\"text-align: right;\">\n",
       "      <th></th>\n",
       "      <th>Days for shipping (real)</th>\n",
       "      <th>Sales per customer</th>\n",
       "      <th>Late_delivery_risk</th>\n",
       "      <th>Sales</th>\n",
       "      <th>Product Card Id</th>\n",
       "      <th>Product Category Id</th>\n",
       "      <th>Product Price</th>\n",
       "      <th>Product Status</th>\n",
       "      <th>shipping date (DateOrders)</th>\n",
       "      <th>Shipping Year</th>\n",
       "      <th>Shipping Month</th>\n",
       "      <th>Shipping Day</th>\n",
       "      <th>Shipping Weekday</th>\n",
       "    </tr>\n",
       "  </thead>\n",
       "  <tbody>\n",
       "    <tr>\n",
       "      <th>count</th>\n",
       "      <td>180519.000000</td>\n",
       "      <td>180519.000000</td>\n",
       "      <td>180519.000000</td>\n",
       "      <td>180519.000000</td>\n",
       "      <td>180519.000000</td>\n",
       "      <td>180519.000000</td>\n",
       "      <td>180519.000000</td>\n",
       "      <td>180519.0</td>\n",
       "      <td>180519</td>\n",
       "      <td>180519.000000</td>\n",
       "      <td>180519.000000</td>\n",
       "      <td>180519.000000</td>\n",
       "      <td>180519.000000</td>\n",
       "    </tr>\n",
       "    <tr>\n",
       "      <th>mean</th>\n",
       "      <td>3.497654</td>\n",
       "      <td>183.107609</td>\n",
       "      <td>0.548291</td>\n",
       "      <td>203.772096</td>\n",
       "      <td>692.509764</td>\n",
       "      <td>31.851451</td>\n",
       "      <td>141.232550</td>\n",
       "      <td>0.0</td>\n",
       "      <td>2016-06-16 05:45:23.202433024</td>\n",
       "      <td>2015.979404</td>\n",
       "      <td>6.252494</td>\n",
       "      <td>15.702170</td>\n",
       "      <td>2.997385</td>\n",
       "    </tr>\n",
       "    <tr>\n",
       "      <th>min</th>\n",
       "      <td>0.000000</td>\n",
       "      <td>7.490000</td>\n",
       "      <td>0.000000</td>\n",
       "      <td>9.990000</td>\n",
       "      <td>19.000000</td>\n",
       "      <td>2.000000</td>\n",
       "      <td>9.990000</td>\n",
       "      <td>0.0</td>\n",
       "      <td>2015-01-03 00:00:00</td>\n",
       "      <td>2015.000000</td>\n",
       "      <td>1.000000</td>\n",
       "      <td>1.000000</td>\n",
       "      <td>0.000000</td>\n",
       "    </tr>\n",
       "    <tr>\n",
       "      <th>25%</th>\n",
       "      <td>2.000000</td>\n",
       "      <td>104.379997</td>\n",
       "      <td>0.000000</td>\n",
       "      <td>119.980003</td>\n",
       "      <td>403.000000</td>\n",
       "      <td>18.000000</td>\n",
       "      <td>50.000000</td>\n",
       "      <td>0.0</td>\n",
       "      <td>2015-09-25 06:59:00</td>\n",
       "      <td>2015.000000</td>\n",
       "      <td>3.000000</td>\n",
       "      <td>8.000000</td>\n",
       "      <td>1.000000</td>\n",
       "    </tr>\n",
       "    <tr>\n",
       "      <th>50%</th>\n",
       "      <td>3.000000</td>\n",
       "      <td>163.990005</td>\n",
       "      <td>1.000000</td>\n",
       "      <td>199.919998</td>\n",
       "      <td>627.000000</td>\n",
       "      <td>29.000000</td>\n",
       "      <td>59.990002</td>\n",
       "      <td>0.0</td>\n",
       "      <td>2016-06-15 08:32:00</td>\n",
       "      <td>2016.000000</td>\n",
       "      <td>6.000000</td>\n",
       "      <td>16.000000</td>\n",
       "      <td>3.000000</td>\n",
       "    </tr>\n",
       "    <tr>\n",
       "      <th>75%</th>\n",
       "      <td>5.000000</td>\n",
       "      <td>247.399994</td>\n",
       "      <td>1.000000</td>\n",
       "      <td>299.950012</td>\n",
       "      <td>1004.000000</td>\n",
       "      <td>45.000000</td>\n",
       "      <td>199.990005</td>\n",
       "      <td>0.0</td>\n",
       "      <td>2017-03-04 21:29:00</td>\n",
       "      <td>2017.000000</td>\n",
       "      <td>9.000000</td>\n",
       "      <td>23.000000</td>\n",
       "      <td>5.000000</td>\n",
       "    </tr>\n",
       "    <tr>\n",
       "      <th>max</th>\n",
       "      <td>6.000000</td>\n",
       "      <td>1939.989990</td>\n",
       "      <td>1.000000</td>\n",
       "      <td>1999.989990</td>\n",
       "      <td>1363.000000</td>\n",
       "      <td>76.000000</td>\n",
       "      <td>1999.989990</td>\n",
       "      <td>0.0</td>\n",
       "      <td>2018-02-06 22:14:00</td>\n",
       "      <td>2018.000000</td>\n",
       "      <td>12.000000</td>\n",
       "      <td>31.000000</td>\n",
       "      <td>6.000000</td>\n",
       "    </tr>\n",
       "    <tr>\n",
       "      <th>std</th>\n",
       "      <td>1.623722</td>\n",
       "      <td>120.043670</td>\n",
       "      <td>0.497664</td>\n",
       "      <td>132.273077</td>\n",
       "      <td>336.446807</td>\n",
       "      <td>15.640064</td>\n",
       "      <td>139.732492</td>\n",
       "      <td>0.0</td>\n",
       "      <td>NaN</td>\n",
       "      <td>0.831962</td>\n",
       "      <td>3.398391</td>\n",
       "      <td>8.808808</td>\n",
       "      <td>2.002633</td>\n",
       "    </tr>\n",
       "  </tbody>\n",
       "</table>\n",
       "</div>"
      ],
      "text/plain": [
       "       Days for shipping (real)  Sales per customer  Late_delivery_risk  \\\n",
       "count             180519.000000       180519.000000       180519.000000   \n",
       "mean                   3.497654          183.107609            0.548291   \n",
       "min                    0.000000            7.490000            0.000000   \n",
       "25%                    2.000000          104.379997            0.000000   \n",
       "50%                    3.000000          163.990005            1.000000   \n",
       "75%                    5.000000          247.399994            1.000000   \n",
       "max                    6.000000         1939.989990            1.000000   \n",
       "std                    1.623722          120.043670            0.497664   \n",
       "\n",
       "               Sales  Product Card Id  Product Category Id  Product Price  \\\n",
       "count  180519.000000    180519.000000        180519.000000  180519.000000   \n",
       "mean      203.772096       692.509764            31.851451     141.232550   \n",
       "min         9.990000        19.000000             2.000000       9.990000   \n",
       "25%       119.980003       403.000000            18.000000      50.000000   \n",
       "50%       199.919998       627.000000            29.000000      59.990002   \n",
       "75%       299.950012      1004.000000            45.000000     199.990005   \n",
       "max      1999.989990      1363.000000            76.000000    1999.989990   \n",
       "std       132.273077       336.446807            15.640064     139.732492   \n",
       "\n",
       "       Product Status     shipping date (DateOrders)  Shipping Year  \\\n",
       "count        180519.0                         180519  180519.000000   \n",
       "mean              0.0  2016-06-16 05:45:23.202433024    2015.979404   \n",
       "min               0.0            2015-01-03 00:00:00    2015.000000   \n",
       "25%               0.0            2015-09-25 06:59:00    2015.000000   \n",
       "50%               0.0            2016-06-15 08:32:00    2016.000000   \n",
       "75%               0.0            2017-03-04 21:29:00    2017.000000   \n",
       "max               0.0            2018-02-06 22:14:00    2018.000000   \n",
       "std               0.0                            NaN       0.831962   \n",
       "\n",
       "       Shipping Month   Shipping Day  Shipping Weekday  \n",
       "count   180519.000000  180519.000000     180519.000000  \n",
       "mean         6.252494      15.702170          2.997385  \n",
       "min          1.000000       1.000000          0.000000  \n",
       "25%          3.000000       8.000000          1.000000  \n",
       "50%          6.000000      16.000000          3.000000  \n",
       "75%          9.000000      23.000000          5.000000  \n",
       "max         12.000000      31.000000          6.000000  \n",
       "std          3.398391       8.808808          2.002633  "
      ]
     },
     "execution_count": 14,
     "metadata": {},
     "output_type": "execute_result"
    }
   ],
   "source": [
    "# retrieve the number of columns and rows\n",
    "df.describe()"
   ]
  },
  {
   "cell_type": "markdown",
   "metadata": {},
   "source": [
    "<details><summary>Click to see some Notable Observation of the Data</summary>\n",
    "<ol type=\"1\">\n",
    "<li><p>Aproximately <code>55%</code> of orders had late delivery risks.</p></li>\n",
    "<li><p>Aproximately <code>75%</code> of products cost <code>$199.99</code></p></li>\n",
    "<li><p>All the products are available.</p></li>\n",
    "<li><p>75% of customers bought goods worth at least <code>$247.40</code></p></li>\n",
    "</ol>\n",
    "<p>\n",
    "Further inspection of the data will help us understand the data better.\n",
    "</p>\n",
    "</details>"
   ]
  },
  {
   "cell_type": "markdown",
   "metadata": {},
   "source": [
    "\n",
    "<h2 class=\"anchored\">\n",
    "Data Preprocessing\n",
    "</h2>\n",
    "<p>\n",
    "To Forecast the demand based on the available data, we will focus on historical sales data, and product attributes like; stock level, and product category, we will also analyze the impact of other variables that contribute to demand patterns including geographic factors, customer segments and lead time.\n",
    "</p>\n",
    "<h4 class=\"anchored\">\n",
    "Preprocessing Tasks\n",
    "</h4>\n",
    "\n",
    "- [x] Drop irrelevant columns\n",
    "- [x] Drop rows with missing values\n",
    "- [x] Create new features\n",
    "- [x] Convert categorical features to numerical features\n",
    "\n",
    "<p>Based on the above, we will drop the majority of the columns that are not relevant for forecasting the demand and extract new features from the existing columns\n",
    "</p>\n"
   ]
  },
  {
   "cell_type": "markdown",
   "metadata": {},
   "source": [
    "\n",
    "<h3>\n",
    "Drop Irrelevant Columns\n",
    "</h3>"
   ]
  },
  {
   "cell_type": "code",
   "execution_count": 4,
   "metadata": {},
   "outputs": [
    {
     "name": "stdout",
     "output_type": "stream",
     "text": [
      "35 columns dropped successfully. Number of columns remaining: 18\n"
     ]
    }
   ],
   "source": [
    "#| code fold true\n",
    "# drop irrelevant columns\n",
    "def drop_columns(df, columns_to_drop):\n",
    "    try:\n",
    "        df = df.drop(columns=columns_to_drop)\n",
    "        print(f\"{len(columns_to_drop)} columns dropped successfully. Number of columns remaining: {len(df.columns)}\")\n",
    "        return df\n",
    "    except KeyError as e:\n",
    "        print(f\"\"\"Column(s): {e} not found in dataframe.\n",
    "              \n",
    "            No columns dropped.\n",
    "            Please Check that the column names are correct.\"\"\")\n",
    "        return df\n",
    "\n",
    "# Specify the columns to keep\n",
    "colums_to_keep = ['Days for shipping (real)', \n",
    "                  'Customer Country',\n",
    "                  'Sales per customer',\n",
    "                  'Delivery Status', \n",
    "                  'Late_delivery_risk', \n",
    "                  'Customer City',\n",
    "                  'Customer Segment',\n",
    "                  'Sales','Shipping Mode',\n",
    "                  'Type', 'Product Card Id',\n",
    "                  'Customer Zipcode', \n",
    "                  'Product Category Id', \n",
    "                  'Product Name',                    \n",
    "                  'Product Price',\n",
    "                  'Market', \n",
    "                  'Product Status',\n",
    "                  'shipping date (DateOrders)',]\n",
    "\n",
    "# Specify the columns to drop\n",
    "columns_to_drop = [col for col in df.columns if col not in colums_to_keep ]\n",
    "\n",
    "df = drop_columns(df, columns_to_drop)"
   ]
  },
  {
   "cell_type": "markdown",
   "metadata": {},
   "source": [
    "<h3>Drop Rows with Missing Values</h3>"
   ]
  },
  {
   "cell_type": "code",
   "execution_count": 7,
   "metadata": {},
   "outputs": [],
   "source": [
    "#| code fold true\n",
    "# drop customer Zip code.\n",
    "df = df.drop(columns=['Customer Zipcode'])"
   ]
  },
  {
   "cell_type": "markdown",
   "metadata": {},
   "source": [
    "<h4>A Quick Spot Check for Missing Values</h4>"
   ]
  },
  {
   "cell_type": "code",
   "execution_count": 8,
   "metadata": {},
   "outputs": [
    {
     "data": {
      "text/plain": [
       "Type                          0\n",
       "Days for shipping (real)      0\n",
       "Sales per customer            0\n",
       "Delivery Status               0\n",
       "Late_delivery_risk            0\n",
       "Customer City                 0\n",
       "Customer Country              0\n",
       "Customer Segment              0\n",
       "Market                        0\n",
       "Sales                         0\n",
       "Product Card Id               0\n",
       "Product Category Id           0\n",
       "Product Name                  0\n",
       "Product Price                 0\n",
       "Product Status                0\n",
       "shipping date (DateOrders)    0\n",
       "Shipping Mode                 0\n",
       "Shipping Year                 0\n",
       "Shipping Month                0\n",
       "Shipping Day                  0\n",
       "Shipping Weekday              0\n",
       "dtype: int64"
      ]
     },
     "execution_count": 8,
     "metadata": {},
     "output_type": "execute_result"
    }
   ],
   "source": [
    "### Check for Missing values\n",
    "df.isnull().sum()"
   ]
  },
  {
   "cell_type": "markdown",
   "metadata": {},
   "source": [
    "<h3>Create New Features</h3>\n",
    "<p>The dataset contains a `shipping date` column which is a `DateTime` object from which we can extract `Month`, `Year`, `Day` and `Day of Week` that can be useful in our analysis.</p>\n",
    "\n",
    "- [x] `Month` - to capture the months per sale.\n",
    "- [x] `Year` - to capture the year per sales.\n",
    "- [x] `Day` - to capture the day per sales.\n",
    "- [x] `Day of Week` - to capture the day of the week per sales.\n",
    "\n",
    "<p>\n",
    "I chose <code>Shipping Date</code> over the <code>Order date</code> because it reflects fulfilled demand while the latter captures interest. (the customer could cancel the order)\n",
    "</p>"
   ]
  },
  {
   "cell_type": "code",
   "execution_count": 5,
   "metadata": {},
   "outputs": [
    {
     "name": "stdout",
     "output_type": "stream",
     "text": [
      " Success! Columns Created: Shipping Year, Shipping Month, Shipping Day, and Shipping Weekday\n"
     ]
    }
   ],
   "source": [
    "#| code fold true\n",
    "# Create month, Year, Day, and Weekday columns from Shipping Date\n",
    "def extract_date_parts(df, date_column, prefix):\n",
    "    try:\n",
    "        df[date_column] = pd.to_datetime(df[date_column])\n",
    "        df[f'{prefix} Year'] = df[date_column].dt.year\n",
    "        df[f'{prefix} Month'] = df[date_column].dt.month\n",
    "        df[f'{prefix} Day'] = df[date_column].dt.day\n",
    "        df[f'{prefix} Weekday'] = df[date_column].dt.weekday\n",
    "        # verify and notify that the columns have been created\n",
    "        if f'{prefix} Year' in df.columns and f'{prefix} Month' in df.columns and f'{prefix} Day' in df.columns and f'{prefix} Weekday' in df.columns:\n",
    "            print(f\" Success! Columns Created: {prefix} Year, {prefix} Month, {prefix} Day, and {prefix} Weekday\")\n",
    "            return df\n",
    "        else:\n",
    "            print(\"Error creating columns. Please check that the date column name is correct.\")\n",
    "    except Exception as e:\n",
    "        print(f\"Error creating columns: {e}\")\n",
    "        return df\n",
    "\n",
    "# Use the function to extract date parts\n",
    "df = extract_date_parts(df, 'shipping date (DateOrders)', 'Shipping')"
   ]
  },
  {
   "cell_type": "code",
   "execution_count": 6,
   "metadata": {},
   "outputs": [
    {
     "data": {
      "text/plain": [
       "(180519, 22)"
      ]
     },
     "execution_count": 6,
     "metadata": {},
     "output_type": "execute_result"
    }
   ],
   "source": [
    "# display the shape of the dataframe\n",
    "df.shape"
   ]
  },
  {
   "cell_type": "markdown",
   "metadata": {},
   "source": [
    "<p>Now we have 22 new columns and 180519 entries (rows) in the dataset.</p>"
   ]
  },
  {
   "cell_type": "markdown",
   "metadata": {},
   "source": [
    "<h3>Convert Categorical Features to Numerical Features</h3>\n",
    "<p>The nature of categorical data makes it unsuitable for future analysis. for instance, machine learning models can't work with categorical values for customer origins like `UK`, `USA`, `France`, etc. We will convert these categorical values to numerical values using the `LabelEncoder` from the `sklearn` library.</p>\n",
    "\n",
    "<p>I will also perform a <a href=\"#\"> one-hot encoding</a> technique on categorical features for future machine learning modeling tasks.</p>\n",
    "\n",
    "<p> I wrote a `prepare_data()` function that returns two preprocessed dataframes: one that is encoded using a label encoder function and the other encoded using one hot encoding technique.</p>\n",
    "\n",
    "<p>You can learn about encoding techniques for categorical variables <a href=\"#\">here</a></p>\n"
   ]
  },
  {
   "cell_type": "code",
   "execution_count": 11,
   "metadata": {},
   "outputs": [
    {
     "name": "stdout",
     "output_type": "stream",
     "text": [
      "Filtering and Encoding Dataset for Top Product ID: 365\n",
      "Data preparation successful.\n"
     ]
    }
   ],
   "source": [
    "# Select top selling product\n",
    "top_product = df['Product Card Id'].value_counts().index[0]\n",
    "# get top product ID\n",
    "print(f\"Filtering and Encoding Dataset for Top Product ID: {top_product}\")\n",
    "\n",
    "from sklearn.preprocessing import LabelEncoder\n",
    "\n",
    "def prepare_data(df, product_card_id, categorical_cols, columns_to_drop):\n",
    "    \"\"\"\n",
    "    Prepare a DataFrame for bivariate analysis and machine learning by applying label encoding and one-hot encoding to categorical columns and dropping specified columns.\n",
    "\n",
    "    Parameters:\n",
    "    df (pandas.DataFrame): The original DataFrame.\n",
    "    product_card_id (int): The product card ID to filter the DataFrame on.\n",
    "    categorical_cols (list of str): The names of the categorical columns to apply encoding to.\n",
    "    columns_to_drop (list of str): The names of the columns to drop from the DataFrame.\n",
    "\n",
    "    Returns:\n",
    "    pandas.DataFrame: The label encoded DataFrame for bivariate analysis.\n",
    "    pandas.DataFrame: The one-hot encoded DataFrame for machine learning.\n",
    "    \"\"\"\n",
    "    try:\n",
    "        df_copy = df[df['Product Card Id'] == product_card_id].copy()  # create a copy\n",
    "\n",
    "        # label encoding\n",
    "        label_encoder = LabelEncoder()\n",
    "        df_label_encoded = df_copy.copy()\n",
    "\n",
    "        # Apply label encoding to categorical variables in place\n",
    "        for col in categorical_cols:\n",
    "            df_label_encoded[col] = label_encoder.fit_transform(df_label_encoded[col])\n",
    "\n",
    "        # Drop specified columns\n",
    "        df_label_encoded = df_label_encoded.drop(columns=columns_to_drop)\n",
    "\n",
    "        # one-hot encoding\n",
    "        df_one_hot_encoded = pd.get_dummies(df_copy, columns=categorical_cols)\n",
    "\n",
    "        # Drop specified columns\n",
    "        df_one_hot_encoded = df_one_hot_encoded.drop(columns=columns_to_drop)\n",
    "        print(\"Data preparation successful.\")\n",
    "        return  df_one_hot_encoded, df_label_encoded\n",
    "    except Exception as e:\n",
    "        print(f\"Error preparing data: {e}\")\n",
    "        return None, None\n",
    "\n",
    "# Use the function to prepare the data for bivariate analysis\n",
    "categorical_cols = ['Type', 'Customer Segment', \n",
    "                    'Delivery Status', \n",
    "                    'Customer City', \n",
    "                    'Market',\n",
    "                    'Shipping Mode']\n",
    "\n",
    "columns_to_drop = ['Product Name', \n",
    "                   'Customer Country', \n",
    "                   'shipping date (DateOrders)', \n",
    "                   'Product Card Id', \n",
    "                   'Product Category Id', \n",
    "                   'Product Status', \n",
    "                   'Product Price']\n",
    "\n",
    "# drop columns and encode data for correlation martrix and Machine learning\n",
    "onehot_encode_df, label_encode_df = prepare_data(df, top_product, categorical_cols, columns_to_drop)\n",
    "\n",
    "# rename Type column to Payment Type\n",
    "label_encode_df = label_encode_df.rename(columns={'Type': 'Payment Type'})\n",
    "onehot_encode_df = onehot_encode_df.rename(columns={'Type': 'Payment Type'})"
   ]
  },
  {
   "cell_type": "markdown",
   "metadata": {},
   "source": [
    "<h4>Confirm Encoding of Dataset </h4>"
   ]
  },
  {
   "cell_type": "code",
   "execution_count": 12,
   "metadata": {},
   "outputs": [
    {
     "data": {
      "text/plain": [
       "Payment Type                  int64\n",
       "Days for shipping (real)      int64\n",
       "Sales per customer          float64\n",
       "Delivery Status               int64\n",
       "Late_delivery_risk            int64\n",
       "Customer City                 int64\n",
       "Customer Segment              int64\n",
       "Market                        int64\n",
       "Sales                       float64\n",
       "Shipping Mode                 int64\n",
       "Shipping Year                 int32\n",
       "Shipping Month                int32\n",
       "Shipping Day                  int32\n",
       "Shipping Weekday              int32\n",
       "dtype: object"
      ]
     },
     "execution_count": 12,
     "metadata": {},
     "output_type": "execute_result"
    }
   ],
   "source": [
    "# validate the label encoding\n",
    "label_encode_df.dtypes"
   ]
  },
  {
   "cell_type": "code",
   "execution_count": 13,
   "metadata": {},
   "outputs": [
    {
     "data": {
      "text/plain": [
       "Days for shipping (real)          int64\n",
       "Sales per customer              float64\n",
       "Late_delivery_risk                int64\n",
       "Sales                           float64\n",
       "Shipping Year                     int32\n",
       "                                 ...   \n",
       "Market_USCA                        bool\n",
       "Shipping Mode_First Class          bool\n",
       "Shipping Mode_Same Day             bool\n",
       "Shipping Mode_Second Class         bool\n",
       "Shipping Mode_Standard Class       bool\n",
       "Length: 590, dtype: object"
      ]
     },
     "execution_count": 13,
     "metadata": {},
     "output_type": "execute_result"
    }
   ],
   "source": [
    "# validate the one-hot encoding\n",
    "onehot_encode_df.dtypes"
   ]
  },
  {
   "cell_type": "markdown",
   "metadata": {},
   "source": [
    "<h4>Data Preprocessing Completed Sucessfully!!</h4>\n"
   ]
  },
  {
   "cell_type": "markdown",
   "metadata": {},
   "source": [
    "<!-- insert gif -->\n",
    "<img src=\"https://media.giphy.com/media/jIv6pfqKiIvHPYZO6y/giphy.gif?cid=790b76114sdadclwy3mcxlm3o08nf63hxm28relnkbokg8ue&ep=v1_gifs_search&rid=giphy.gif&ct=g\" alt=\"gif\" style=\"width: 100%; height: auto;\">\t"
   ]
  },
  {
   "cell_type": "markdown",
   "metadata": {},
   "source": [
    "<p> The dataset is now ready for further analysis and modeling. I will now proceed to conduct exploratory data visualizations to understand the data better.</p>"
   ]
  },
  {
   "cell_type": "markdown",
   "metadata": {},
   "source": [
    "<h2>Exploratory Data Visualizations</h2>\n",
    "<p>To highlight the distributions of the individual variables as well as the relationship between the variables and the target variables, I used the following techniques:</p>\n",
    "\n",
    "- [x] Univariate Analysis\n",
    "- [x] Exploratory Time Series Analysis"
   ]
  },
  {
   "cell_type": "markdown",
   "metadata": {},
   "source": [
    "<h3>Univariate Analysis</h3>\n",
    "<p>Univariate analysis is the simplest form of data analysis where the data being analyzed contains only one variable. Since it's a single variable, it doesn't deal with causes or relationships. The main purpose of univariate analysis is to describe the data and find patterns that exist within it.</p>\n",
    "\n",
    "<h4>Visualizing the Distribution of the Dataset</h4>"
   ]
  }
 ],
 "metadata": {
  "kernelspec": {
   "display_name": "Python 3 (ipykernel)",
   "language": "python",
   "name": "python3"
  },
  "language_info": {
   "codemirror_mode": {
    "name": "ipython",
    "version": 3
   },
   "file_extension": ".py",
   "mimetype": "text/x-python",
   "name": "python",
   "nbconvert_exporter": "python",
   "pygments_lexer": "ipython3",
   "version": "3.10.12"
  }
 },
 "nbformat": 4,
 "nbformat_minor": 2
}
